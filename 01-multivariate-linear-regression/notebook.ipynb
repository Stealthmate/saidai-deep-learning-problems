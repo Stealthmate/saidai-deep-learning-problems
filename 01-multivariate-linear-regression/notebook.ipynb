{
 "cells": [
  {
   "cell_type": "markdown",
   "metadata": {},
   "source": [
    "# 重回帰 - 練習問題\n",
    "\n",
    "python・numpy・matplotlib等の練習として、重回帰を実装してみましょう。"
   ]
  },
  {
   "cell_type": "markdown",
   "metadata": {},
   "source": [
    "# 問題\n",
    "\n",
    "1000人の大学生のデータが与えられます。各学生について、その人の1日の授業外勉強時間、出席率、基本情報技術概論の成績と計算論の成績が与えられます。1日の授業外勉強時間は時間単位、出席率は$(0, 1)$区間での値、それぞれの成績は$[0, 4]$区間でのGP（注意：ここで扱うGPは、離散値ではなく、連続値だとします。つまり、3.14や、2.72なども可能です）。"
   ]
  },
  {
   "cell_type": "markdown",
   "metadata": {},
   "source": [
    "# 準備"
   ]
  },
  {
   "cell_type": "code",
   "execution_count": null,
   "metadata": {},
   "outputs": [],
   "source": [
    "import numpy as np\n",
    "import matplotlib as mpl\n",
    "# 日本語のフォントを設定\n",
    "mpl.rcParams['font.family'] = 'sans-serif'\n",
    "mpl.rcParams['font.sans-serif'] = ['Noto Sans CJK JP']\n",
    "mpl.rcParams['font.size'] = 18\n",
    "# 図を大きくする\n",
    "mpl.rcParams['figure.figsize'] = 10, 6\n",
    "import matplotlib.pyplot as plt\n",
    "import csv\n",
    "\n",
    "def plot(x, y):\n",
    "    fig, ax = plt.subplots(1, 2, figsize=(13, 5), gridspec_kw=dict(wspace=0.3))\n",
    "    for i, a in enumerate(ax):\n",
    "        sc = a.scatter(x[:, 0], X[:, 1], c=y[:, i], s=20, vmin=0, vmax=4)\n",
    "        plt.colorbar(sc, ax=a, label='成績 [GP]')\n",
    "        a.set_xlim(0, 5)\n",
    "        a.set_ylim(0, 1)\n",
    "        a.set_xlabel(\"1日当たり勉強時間 [h]\")\n",
    "        a.set_ylabel(\"授業出席率\")\n",
    "\n",
    "    ax[0].set_title(\"成績 [基本情報技術概論]\", pad=20)\n",
    "    ax[1].set_title(\"成績 [計算論]\", pad=20)\n",
    "    plt.show()\n"
   ]
  },
  {
   "cell_type": "markdown",
   "metadata": {},
   "source": [
    "# データの読み込み\n",
    "\n",
    "データは`data.csv`というファイルに保存されています。各行には、勉強時間、出席率、基本情報の成績、計算論の成績の順に、数値が保存されています。まずはデータを読み込み、大まかな傾向を把握するためにプロットします。なお、下の`plot(X, Y)`という文は、上で定義した`plot`関数を呼び出しています。"
   ]
  },
  {
   "cell_type": "code",
   "execution_count": null,
   "metadata": {},
   "outputs": [],
   "source": [
    "X = []\n",
    "Y = []\n",
    "with open('data.csv') as f:\n",
    "    reader = csv.reader(f)\n",
    "    for row in reader:\n",
    "        number_row = []\n",
    "        for value in row:\n",
    "            number_row.append(float(value))\n",
    "        X.append(number_row[:2])\n",
    "        Y.append(number_row[2:])\n",
    "X = np.array(X)\n",
    "Y = np.array(Y)\n",
    "plot(X, Y)"
   ]
  },
  {
   "cell_type": "markdown",
   "metadata": {},
   "source": [
    "# データに対し回帰分析を行う\n",
    "\n",
    "では、実際に分析を行いましょう。[前述べた](https://stealthmate.github.io/saidai-deep-learning/machine_learning/linear-regression.html)ように、回帰係数は以下で与えられます。\n",
    "\n",
    "$$\n",
    "B = (X^TX)^{-1}X^TY\n",
    "$$\n",
    "\n",
    "なお、$X$では、最後の列は1で埋める必要があります。"
   ]
  },
  {
   "cell_type": "markdown",
   "metadata": {},
   "source": [
    "---\n",
    "まず、上で読み込んだデータには1列が含まれていないので、自分で追加する必要があります。[`np.append`](https://docs.scipy.org/doc/numpy/reference/generated/numpy.append.html)と[`np.ones`](https://docs.scipy.org/doc/numpy/reference/generated/numpy.ones.html)のdocumentationを参考にしながら、追加してみましょう："
   ]
  },
  {
   "cell_type": "code",
   "execution_count": null,
   "metadata": {},
   "outputs": [],
   "source": [
    "X = X[:, :2] # ミス防止\n",
    "N = 1000 # データ点の数\n",
    "\n",
    "ones = np.ones(( ___ , 1)) # np.onesの中を埋めましょう\n",
    "X = np.append( __ , __ , axis=1) # np.appendの中を埋めましょう\n",
    "X"
   ]
  },
  {
   "cell_type": "markdown",
   "metadata": {},
   "source": [
    "正しく埋めていれば、右側に`1.`の列が表示されます。"
   ]
  },
  {
   "cell_type": "markdown",
   "metadata": {},
   "source": [
    "---\n",
    "では、$B$を求めましょう。そのために、行列の[転置](https://docs.scipy.org/doc/numpy/reference/generated/numpy.ndarray.T.html)と[逆行列](https://docs.scipy.org/doc/numpy/reference/generated/numpy.linalg.pinv.html)を求めなければいけません。"
   ]
  },
  {
   "cell_type": "code",
   "execution_count": null,
   "metadata": {},
   "outputs": [],
   "source": [
    "B = # ここを埋めましょう。\n",
    "B"
   ]
  },
  {
   "cell_type": "markdown",
   "metadata": {},
   "source": [
    "正しければ、Bの値が表示されます。"
   ]
  },
  {
   "cell_type": "markdown",
   "metadata": {},
   "source": [
    "---\n",
    "では、結果を確認しましょう。まずは、求まった$B$から改めて成績を計算しましょう。以下の式を実装します：\n",
    "\n",
    "$$\n",
    "\\hat Y = XB\n",
    "$$"
   ]
  },
  {
   "cell_type": "code",
   "execution_count": null,
   "metadata": {},
   "outputs": [],
   "source": [
    "Yhat = # ここを埋めましょう"
   ]
  },
  {
   "cell_type": "markdown",
   "metadata": {},
   "source": [
    "次に、与えられた成績で色彩した散布図と、計算した成績で色彩した散布図を上下にプロットします。"
   ]
  },
  {
   "cell_type": "code",
   "execution_count": null,
   "metadata": {},
   "outputs": [],
   "source": [
    "print(\"与えられたデータ\")\n",
    "plot(X, Y)"
   ]
  },
  {
   "cell_type": "code",
   "execution_count": null,
   "metadata": {},
   "outputs": [],
   "source": [
    "print(\"計算したデータ\")\n",
    "plot(X, Yhat)"
   ]
  },
  {
   "cell_type": "markdown",
   "metadata": {},
   "source": [
    "問題が無ければ、下の図は色が緩やかに変化していくものになるはずです。これで、回帰分析でデータの関係を数学的に計算することができました。"
   ]
  }
 ],
 "metadata": {
  "kernelspec": {
   "display_name": "Python 3",
   "language": "python",
   "name": "python3"
  },
  "language_info": {
   "codemirror_mode": {
    "name": "ipython",
    "version": 3
   },
   "file_extension": ".py",
   "mimetype": "text/x-python",
   "name": "python",
   "nbconvert_exporter": "python",
   "pygments_lexer": "ipython3",
   "version": "3.7.4"
  }
 },
 "nbformat": 4,
 "nbformat_minor": 2
}
